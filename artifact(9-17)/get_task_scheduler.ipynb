{
 "cells": [
  {
   "cell_type": "markdown",
   "metadata": {},
   "source": [
    "## 작업 스케쥴"
   ]
  },
  {
   "cell_type": "code",
   "execution_count": 3,
   "metadata": {},
   "outputs": [],
   "source": [
    "import win32com.client\n",
    "import csv\n",
    "\n",
    "def get_scheduled_tasks():\n",
    "    with open('Scheduled_Task_List.csv', 'w', newline='', encoding='utf-8-sig') as file:\n",
    "        writer = csv.writer(file)\n",
    "        writer.writerow([\"Task name\", \"Last run Time\", \"Next run Time\", \"Enabled\", \"Trigger Count\", \"Action Count\"])\n",
    "\n",
    "        scheduler = win32com.client.Dispatch(\"Schedule.Service\")\n",
    "        scheduler.Connect()\n",
    "        folders = [scheduler.GetFolder(\"\\\\\")]\n",
    "\n",
    "        while folders:\n",
    "            folder = folders.pop(0)\n",
    "            folders += list(folder.GetFolders(0))\n",
    "            tasks = list(folder.GetTasks(0))\n",
    "\n",
    "            for task in tasks:\n",
    "                settings = task.Definition.Settings\n",
    "                triggers = task.Definition.Triggers\n",
    "                actions = task.Definition.Actions\n",
    "\n",
    "                writer.writerow({task.Name,task.LastRunTime,task.NextRunTime,task.Enabled,triggers.Count,actions.Count})"
   ]
  },
  {
   "cell_type": "code",
   "execution_count": 4,
   "metadata": {},
   "outputs": [],
   "source": [
    "get_scheduled_tasks()"
   ]
  }
 ],
 "metadata": {
  "kernelspec": {
   "display_name": "Python 3",
   "language": "python",
   "name": "python3"
  },
  "language_info": {
   "codemirror_mode": {
    "name": "ipython",
    "version": 3
   },
   "file_extension": ".py",
   "mimetype": "text/x-python",
   "name": "python",
   "nbconvert_exporter": "python",
   "pygments_lexer": "ipython3",
   "version": "3.11.6"
  },
  "orig_nbformat": 4
 },
 "nbformat": 4,
 "nbformat_minor": 2
}
