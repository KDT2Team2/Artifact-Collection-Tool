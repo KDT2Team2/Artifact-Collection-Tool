{
 "cells": [
  {
   "cell_type": "markdown",
   "metadata": {},
   "source": [
    "## 열려 있는 핸들 정보"
   ]
  },
  {
   "cell_type": "code",
   "execution_count": 1,
   "metadata": {},
   "outputs": [],
   "source": [
    "import win32gui\n",
    "import csv\n",
    "\n",
    "def get_hwnd_info():\n",
    "    def callback(_hwnd, _result: list):\n",
    "        title = win32gui.GetWindowText(_hwnd)\n",
    "        if win32gui.IsWindowEnabled(_hwnd) and win32gui.IsWindowVisible(_hwnd) and title and len(title) > 0:\n",
    "            _result.append(_hwnd)\n",
    "        return True\n",
    "\n",
    "    result = []\n",
    "    win32gui.EnumWindows(callback, result)\n",
    "\n",
    "    with open('Window(handler)_info.csv', 'w', newline='', encoding='utf-8-sig') as file:\n",
    "        writer = csv.writer(file)\n",
    "        writer.writerow(['Window Number', 'Window Title', 'Window Class', 'Visible'])\n",
    "\n",
    "        for _hwnd in result:\n",
    "            writer.writerow([\n",
    "                _hwnd, \n",
    "                win32gui.GetWindowText(_hwnd),\n",
    "                win32gui.GetClassName(_hwnd),\n",
    "                win32gui.IsWindowVisible(_hwnd)\n",
    "            ])\n"
   ]
  },
  {
   "cell_type": "code",
   "execution_count": 2,
   "metadata": {},
   "outputs": [],
   "source": [
    "get_hwnd_info()"
   ]
  }
 ],
 "metadata": {
  "kernelspec": {
   "display_name": "Python 3",
   "language": "python",
   "name": "python3"
  },
  "language_info": {
   "codemirror_mode": {
    "name": "ipython",
    "version": 3
   },
   "file_extension": ".py",
   "mimetype": "text/x-python",
   "name": "python",
   "nbconvert_exporter": "python",
   "pygments_lexer": "ipython3",
   "version": "3.11.6"
  },
  "orig_nbformat": 4
 },
 "nbformat": 4,
 "nbformat_minor": 2
}
