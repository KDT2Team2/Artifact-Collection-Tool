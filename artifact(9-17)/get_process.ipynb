{
 "cells": [
  {
   "cell_type": "markdown",
   "metadata": {},
   "source": [
    "## 실행 프로세스 목록 정보"
   ]
  },
  {
   "cell_type": "code",
   "execution_count": 1,
   "metadata": {},
   "outputs": [],
   "source": [
    "import csv\n",
    "import os\n",
    "import hashlib\n",
    "import psutil\n",
    "from datetime import datetime\n",
    "\n",
    "def get_processes_info():\n",
    "    with open('Processes_List.csv', 'w', newline='', encoding='utf-8-sig') as file:\n",
    "        writer = csv.writer(file)\n",
    "        writer.writerow(['Process ID', 'Process name', 'Process path', 'Process creat time', 'Process access time', 'Process modify time', 'Process size', 'hash value(sha-256)'])\n",
    "\n",
    "        for proc in psutil.process_iter(['pid', 'name', 'exe']):\n",
    "            process_info = proc.info\n",
    "            file_path = process_info.get(\"exe\")\n",
    "            if file_path and os.path.isfile(file_path):\n",
    "                # MAC 타임스탬프\n",
    "                creation_time = os.path.getctime(file_path)\n",
    "                access_time = os.path.getatime(file_path)\n",
    "                modification_time = os.path.getmtime(file_path)\n",
    "                \n",
    "                # 파일 크기\n",
    "                file_size = os.path.getsize(file_path)\n",
    "\n",
    "                # 해시값 계산\n",
    "                hash_md5 = hashlib.sha256()\n",
    "                with open(file_path, 'rb') as f:\n",
    "                    for chunk in iter(lambda: f.read(4096), b\"\"):\n",
    "                        hash_md5.update(chunk)\n",
    "                hash_value = hash_md5.hexdigest()\n",
    "\n",
    "                writer.writerow([\n",
    "                    process_info['pid'],\n",
    "                    process_info['name'],\n",
    "                    file_path,\n",
    "                    datetime.fromtimestamp(creation_time).strftime('%Y-%m-%d %H:%M:%S'),\n",
    "                    datetime.fromtimestamp(access_time).strftime('%Y-%m-%d %H:%M:%S'),\n",
    "                    datetime.fromtimestamp(modification_time).strftime('%Y-%m-%d %H:%M:%S'),\n",
    "                    file_size,\n",
    "                    hash_value\n",
    "                ])\n",
    "            else:\n",
    "                process = psutil.Process(process_info['pid'])\n",
    "                writer.writerow([\n",
    "                    process.pid,\n",
    "                    process.name(),\n",
    "                    'N/A',\n",
    "                    datetime.fromtimestamp(process.create_time()).strftime('%Y-%m-%d %H:%M:%S'),\n",
    "                    'N/A',\n",
    "                    'N/A',\n",
    "                    'N/A',\n",
    "                    'N/A'\n",
    "                ])"
   ]
  },
  {
   "cell_type": "code",
   "execution_count": 2,
   "metadata": {},
   "outputs": [],
   "source": [
    "get_processes_info()"
   ]
  }
 ],
 "metadata": {
  "kernelspec": {
   "display_name": "Python 3",
   "language": "python",
   "name": "python3"
  },
  "language_info": {
   "codemirror_mode": {
    "name": "ipython",
    "version": 3
   },
   "file_extension": ".py",
   "mimetype": "text/x-python",
   "name": "python",
   "nbconvert_exporter": "python",
   "pygments_lexer": "ipython3",
   "version": "3.11.6"
  },
  "orig_nbformat": 4
 },
 "nbformat": 4,
 "nbformat_minor": 2
}
