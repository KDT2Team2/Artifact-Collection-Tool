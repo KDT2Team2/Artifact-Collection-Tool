{
 "cells": [
  {
   "cell_type": "markdown",
   "metadata": {},
   "source": [
    "## IP 설정 정보"
   ]
  },
  {
   "cell_type": "code",
   "execution_count": 5,
   "metadata": {},
   "outputs": [],
   "source": [
    "import socket\n",
    "import psutil\n",
    "import csv\n",
    "\n",
    "def get_ip_configuration():\n",
    "    with open('IP_configurations_info.csv', 'w', newline='', encoding='utf-8-sig') as file:\n",
    "        writer = csv.writer(file)\n",
    "        writer.writerow(['Interface', 'IP Address', 'Netmask', 'Broadcast Address'])\n",
    "        \n",
    "        net_if_stats = psutil.net_if_stats()\n",
    "        \n",
    "        for interface, stats in net_if_stats.items():\n",
    "            if stats.isup:\n",
    "                addresses = psutil.net_if_addrs().get(interface, [])\n",
    "                for address in addresses:\n",
    "                    if address.family == socket.AF_INET:\n",
    "                        writer.writerow([\n",
    "                            interface, \n",
    "                            address.address, \n",
    "                            address.netmask, \n",
    "                            address.broadcast\n",
    "                        ])"
   ]
  },
  {
   "cell_type": "code",
   "execution_count": 6,
   "metadata": {},
   "outputs": [],
   "source": [
    "get_ip_configuration()"
   ]
  }
 ],
 "metadata": {
  "kernelspec": {
   "display_name": "Python 3",
   "language": "python",
   "name": "python3"
  },
  "language_info": {
   "codemirror_mode": {
    "name": "ipython",
    "version": 3
   },
   "file_extension": ".py",
   "mimetype": "text/x-python",
   "name": "python",
   "nbconvert_exporter": "python",
   "pygments_lexer": "ipython3",
   "version": "3.11.6"
  },
  "orig_nbformat": 4
 },
 "nbformat": 4,
 "nbformat_minor": 2
}
