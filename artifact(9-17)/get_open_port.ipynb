{
 "cells": [
  {
   "cell_type": "markdown",
   "metadata": {},
   "source": [
    "## 연결 정보 (열려진 포트)"
   ]
  },
  {
   "cell_type": "code",
   "execution_count": 1,
   "metadata": {},
   "outputs": [],
   "source": [
    "import csv\n",
    "import socket\n",
    "from scapy.all import *\n",
    "\n",
    "def get_open_ports():\n",
    "    host_name = socket.gethostname()\n",
    "\n",
    "    with open('Open_Port_List.csv', 'w', newline='', encoding='utf-8-sig') as file:\n",
    "        writer = csv.writer(file)\n",
    "        writer.writerow(['Port Number'])\n",
    "\n",
    "        ports = range(1, 65535)\n",
    "        \n",
    "        packets = [IP(dst=host_name)/TCP(dport=port, flags=\"S\") for port in ports]\n",
    "        responses, _ = sr(packets, timeout=1, verbose=0)\n",
    "\n",
    "        for sent, received in responses:\n",
    "            if received.haslayer(TCP) and received[TCP].flags == 18:\n",
    "                writer.writerow([sent[TCP].dport])"
   ]
  },
  {
   "cell_type": "code",
   "execution_count": 2,
   "metadata": {},
   "outputs": [],
   "source": [
    "get_open_ports()"
   ]
  }
 ],
 "metadata": {
  "kernelspec": {
   "display_name": "Python 3",
   "language": "python",
   "name": "python3"
  },
  "language_info": {
   "codemirror_mode": {
    "name": "ipython",
    "version": 3
   },
   "file_extension": ".py",
   "mimetype": "text/x-python",
   "name": "python",
   "nbconvert_exporter": "python",
   "pygments_lexer": "ipython3",
   "version": "3.11.6"
  },
  "orig_nbformat": 4
 },
 "nbformat": 4,
 "nbformat_minor": 2
}
