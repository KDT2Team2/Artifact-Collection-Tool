{
 "cells": [
  {
   "cell_type": "code",
   "execution_count": 7,
   "metadata": {},
   "outputs": [],
   "source": [
    "import os\n",
    "import csv\n",
    "\n",
    "def get_arp_info():\n",
    "    arp_table = os.popen('arp -a').read()\n",
    "\n",
    "    with open('ARP_info.csv', 'w', newline='', encoding='utf-8-sig') as file:\n",
    "        writer = csv.writer(file)\n",
    "        # CSV 헤더\n",
    "        writer.writerow(['IP Address', 'Physical Address', 'Type'])\n",
    "\n",
    "        # 활성화된 ARP 테이블에 대한 정보\n",
    "        lines = arp_table.split('\\n')\n",
    "        for line in lines:\n",
    "            if line.strip() and 'internet address' not in line.lower():\n",
    "                parts = line.split()\n",
    "                if len(parts) == 3:\n",
    "                    type_value = 'static' if parts[2] == '정적' else 'dynamic' if parts[2] == '동적' else parts[2]\n",
    "                    writer.writerow([parts[0], parts[1], type_value])\n"
   ]
  },
  {
   "cell_type": "code",
   "execution_count": 8,
   "metadata": {},
   "outputs": [],
   "source": [
    "get_arp_info()"
   ]
  }
 ],
 "metadata": {
  "kernelspec": {
   "display_name": "Python 3",
   "language": "python",
   "name": "python3"
  },
  "language_info": {
   "codemirror_mode": {
    "name": "ipython",
    "version": 3
   },
   "file_extension": ".py",
   "mimetype": "text/x-python",
   "name": "python",
   "nbconvert_exporter": "python",
   "pygments_lexer": "ipython3",
   "version": "3.11.6"
  },
  "orig_nbformat": 4
 },
 "nbformat": 4,
 "nbformat_minor": 2
}
