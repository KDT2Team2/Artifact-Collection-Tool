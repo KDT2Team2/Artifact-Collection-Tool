{
 "cells": [
  {
   "cell_type": "markdown",
   "metadata": {},
   "source": [
    "## NetBIOS 정보"
   ]
  },
  {
   "cell_type": "code",
   "execution_count": 1,
   "metadata": {},
   "outputs": [],
   "source": [
    "import os\n",
    "import re\n",
    "import csv\n",
    "\n",
    "def get_netbios_info():\n",
    "    with open('NetBIOS_info.csv', 'w', newline='', encoding='utf-8-sig') as file:\n",
    "        writer = csv.writer(file)\n",
    "        writer.writerow(['Network Name', 'IP Address', 'NetBIOS name', 'NetBIOS type', 'NetBIOS status'])\n",
    "\n",
    "        result = os.popen('nbtstat -n').read()\n",
    "        ethernet_tables = re.split(r'([^\\n]*):\\n노드', result, flags=re.DOTALL)[1:]\n",
    "        ip_pattern = r'IpAddress: \\[([\\d.]+)\\] 범위 ID: \\[\\]'\n",
    "        netbios_pattern = r'(\\S+)\\s+([A-Z]+)\\s+(\\S+)'\n",
    "\n",
    "        for i in range(0, len(ethernet_tables), 2):\n",
    "            adapter_name = ethernet_tables[i].strip()\n",
    "            ethernet_table = ethernet_tables[i + 1]\n",
    "\n",
    "            ip_match = re.search(ip_pattern, ethernet_table, re.DOTALL)\n",
    "            if ip_match:\n",
    "                ip_address = ip_match.group(1)\n",
    "\n",
    "            netbios_matches = re.findall(netbios_pattern, ethernet_table)\n",
    "            if netbios_matches:\n",
    "                for match in netbios_matches:\n",
    "                    name, netbios_type, status = match\n",
    "                    status = 'registration' if status == '등록됨' else 'collision' if status == '충돌' else status\n",
    "\n",
    "                    writer.writerow([adapter_name, ip_address, name, netbios_type, status])\n",
    "            else:\n",
    "                    writer.writerow([adapter_name, ip_address, None, None, None])\n"
   ]
  },
  {
   "cell_type": "code",
   "execution_count": 2,
   "metadata": {},
   "outputs": [],
   "source": [
    "get_netbios_info()"
   ]
  }
 ],
 "metadata": {
  "kernelspec": {
   "display_name": "Python 3",
   "language": "python",
   "name": "python3"
  },
  "language_info": {
   "codemirror_mode": {
    "name": "ipython",
    "version": 3
   },
   "file_extension": ".py",
   "mimetype": "text/x-python",
   "name": "python",
   "nbconvert_exporter": "python",
   "pygments_lexer": "ipython3",
   "version": "3.11.6"
  },
  "orig_nbformat": 4
 },
 "nbformat": 4,
 "nbformat_minor": 2
}
