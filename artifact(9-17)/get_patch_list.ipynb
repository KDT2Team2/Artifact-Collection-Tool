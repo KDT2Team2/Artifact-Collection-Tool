{
 "cells": [
  {
   "cell_type": "markdown",
   "metadata": {},
   "source": [
    "## 패치 리스트"
   ]
  },
  {
   "cell_type": "code",
   "execution_count": 3,
   "metadata": {},
   "outputs": [],
   "source": [
    "import pythoncom\n",
    "import win32com.client\n",
    "import re\n",
    "import csv\n",
    "\n",
    "def get_patch_list():\n",
    "    update_session = win32com.client.Dispatch(\"Microsoft.Update.Session\")\n",
    "    update_searcher = update_session.CreateUpdateSearcher()\n",
    "\n",
    "    history_count = update_searcher.GetTotalHistoryCount()\n",
    "    updates = update_searcher.QueryHistory(0, history_count)\n",
    "\n",
    "    with open('Patch_List.csv', 'w', newline='', encoding='utf-8-sig') as file:\n",
    "        writer = csv.writer(file)\n",
    "        writer.writerow(['Title', 'Update ID', 'Version', 'Date'])\n",
    "\n",
    "        for update in updates:\n",
    "            title = update.Title\n",
    "\n",
    "            # KB 번호와 버전을 추출하기 위한 정규 표현식\n",
    "            kb_pattern = r\"KB\\d+\"\n",
    "            version_pattern = r\"\\(버전\\s([\\d.]+)\\)\"\n",
    "\n",
    "            # 정규 표현식으로 KB 번호와 버전 찾기\n",
    "            kb_match = re.search(kb_pattern, title)\n",
    "            version_match = re.search(version_pattern, title)\n",
    "\n",
    "            kb_number = kb_match.group(0) if kb_match else \"KB 정보 없음\"\n",
    "            version = version_match.group(1) if version_match else \"버전 정보 없음\"\n",
    "\n",
    "            # title에서 KB 정보 이전까지만 추출\n",
    "            title_only = title.split(\" - \")[0] if \" - \" in title else title\n",
    "\n",
    "            writer.writerow([title_only, kb_number, version, str(update.Date)])\n",
    "\n"
   ]
  },
  {
   "cell_type": "code",
   "execution_count": 4,
   "metadata": {},
   "outputs": [],
   "source": [
    "get_patch_list()"
   ]
  }
 ],
 "metadata": {
  "kernelspec": {
   "display_name": "Python 3",
   "language": "python",
   "name": "python3"
  },
  "language_info": {
   "codemirror_mode": {
    "name": "ipython",
    "version": 3
   },
   "file_extension": ".py",
   "mimetype": "text/x-python",
   "name": "python",
   "nbconvert_exporter": "python",
   "pygments_lexer": "ipython3",
   "version": "3.11.6"
  },
  "orig_nbformat": 4
 },
 "nbformat": 4,
 "nbformat_minor": 2
}
