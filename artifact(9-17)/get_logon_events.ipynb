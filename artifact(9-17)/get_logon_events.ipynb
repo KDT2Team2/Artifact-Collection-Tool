{
 "cells": [
  {
   "cell_type": "markdown",
   "metadata": {},
   "source": [
    "## 시스템 로그온 정보"
   ]
  },
  {
   "cell_type": "code",
   "execution_count": 1,
   "metadata": {},
   "outputs": [],
   "source": [
    "import win32evtlog\n",
    "import win32evtlogutil\n",
    "import csv\n",
    "\n",
    "def get_event_logs(query):\n",
    "    server = 'localhost'\n",
    "    log_type = ['Application', 'System', 'Security', 'Setup', 'Forwarded Events']\n",
    "\n",
    "    with open('Event_log_List.csv', 'w', newline='', encoding='utf-8-sig') as file:\n",
    "        writer = csv.writer(file)\n",
    "        writer.writerow(['Log Type', 'Event ID', 'Source', 'Time Generated', 'Time Written', 'Event Category', 'Event Type'])\n",
    "\n",
    "        for logtype in log_type:\n",
    "            hand = win32evtlog.OpenEventLog(server, logtype)\n",
    "            flags = win32evtlog.EVENTLOG_BACKWARDS_READ | win32evtlog.EVENTLOG_SEQUENTIAL_READ\n",
    "            \n",
    "            events = win32evtlog.ReadEventLog(hand, flags, 0)\n",
    "            while events:\n",
    "                for event in events:\n",
    "                    if query in win32evtlogutil.SafeFormatMessage(event, logtype):\n",
    "                        writer.writerow([\n",
    "                            logtype,\n",
    "                            event.EventID,\n",
    "                            event.SourceName,\n",
    "                            event.TimeGenerated,\n",
    "                            event.TimeWritten,\n",
    "                            event.EventCategory,\n",
    "                            event.EventType\n",
    "                        ])\n",
    "                events = win32evtlog.ReadEventLog(hand, flags, 0)\n"
   ]
  },
  {
   "cell_type": "code",
   "execution_count": 2,
   "metadata": {},
   "outputs": [
    {
     "ename": "error",
     "evalue": "(1314, 'OpenEventLogW', '클라이언트가 필요한 권한을 가지고 있지 않습니다.')",
     "output_type": "error",
     "traceback": [
      "\u001b[1;31m---------------------------------------------------------------------------\u001b[0m",
      "\u001b[1;31merror\u001b[0m                                     Traceback (most recent call last)",
      "\u001b[1;32mc:\\Users\\서연\\Desktop\\2_artifact_collection (2)\\코드\\get_logon_events.ipynb Cell 2\u001b[0m line \u001b[0;36m1\n\u001b[1;32m----> <a href='vscode-notebook-cell:/c%3A/Users/%EC%84%9C%EC%97%B0/Desktop/2_artifact_collection%20%282%29/%EC%BD%94%EB%93%9C/get_logon_events.ipynb#X10sZmlsZQ%3D%3D?line=0'>1</a>\u001b[0m get_event_logs(\u001b[39m'\u001b[39;49m\u001b[39mlogon\u001b[39;49m\u001b[39m'\u001b[39;49m)\n",
      "\u001b[1;32mc:\\Users\\서연\\Desktop\\2_artifact_collection (2)\\코드\\get_logon_events.ipynb Cell 2\u001b[0m line \u001b[0;36m1\n\u001b[0;32m     <a href='vscode-notebook-cell:/c%3A/Users/%EC%84%9C%EC%97%B0/Desktop/2_artifact_collection%20%282%29/%EC%BD%94%EB%93%9C/get_logon_events.ipynb#X10sZmlsZQ%3D%3D?line=10'>11</a>\u001b[0m writer\u001b[39m.\u001b[39mwriterow([\u001b[39m'\u001b[39m\u001b[39mLog Type\u001b[39m\u001b[39m'\u001b[39m, \u001b[39m'\u001b[39m\u001b[39mEvent ID\u001b[39m\u001b[39m'\u001b[39m, \u001b[39m'\u001b[39m\u001b[39mSource\u001b[39m\u001b[39m'\u001b[39m, \u001b[39m'\u001b[39m\u001b[39mTime Generated\u001b[39m\u001b[39m'\u001b[39m, \u001b[39m'\u001b[39m\u001b[39mTime Written\u001b[39m\u001b[39m'\u001b[39m, \u001b[39m'\u001b[39m\u001b[39mEvent Category\u001b[39m\u001b[39m'\u001b[39m, \u001b[39m'\u001b[39m\u001b[39mEvent Type\u001b[39m\u001b[39m'\u001b[39m])\n\u001b[0;32m     <a href='vscode-notebook-cell:/c%3A/Users/%EC%84%9C%EC%97%B0/Desktop/2_artifact_collection%20%282%29/%EC%BD%94%EB%93%9C/get_logon_events.ipynb#X10sZmlsZQ%3D%3D?line=12'>13</a>\u001b[0m \u001b[39mfor\u001b[39;00m logtype \u001b[39min\u001b[39;00m log_type:\n\u001b[1;32m---> <a href='vscode-notebook-cell:/c%3A/Users/%EC%84%9C%EC%97%B0/Desktop/2_artifact_collection%20%282%29/%EC%BD%94%EB%93%9C/get_logon_events.ipynb#X10sZmlsZQ%3D%3D?line=13'>14</a>\u001b[0m     hand \u001b[39m=\u001b[39m win32evtlog\u001b[39m.\u001b[39;49mOpenEventLog(server, logtype)\n\u001b[0;32m     <a href='vscode-notebook-cell:/c%3A/Users/%EC%84%9C%EC%97%B0/Desktop/2_artifact_collection%20%282%29/%EC%BD%94%EB%93%9C/get_logon_events.ipynb#X10sZmlsZQ%3D%3D?line=14'>15</a>\u001b[0m     flags \u001b[39m=\u001b[39m win32evtlog\u001b[39m.\u001b[39mEVENTLOG_BACKWARDS_READ \u001b[39m|\u001b[39m win32evtlog\u001b[39m.\u001b[39mEVENTLOG_SEQUENTIAL_READ\n\u001b[0;32m     <a href='vscode-notebook-cell:/c%3A/Users/%EC%84%9C%EC%97%B0/Desktop/2_artifact_collection%20%282%29/%EC%BD%94%EB%93%9C/get_logon_events.ipynb#X10sZmlsZQ%3D%3D?line=16'>17</a>\u001b[0m     events \u001b[39m=\u001b[39m win32evtlog\u001b[39m.\u001b[39mReadEventLog(hand, flags, \u001b[39m0\u001b[39m)\n",
      "\u001b[1;31merror\u001b[0m: (1314, 'OpenEventLogW', '클라이언트가 필요한 권한을 가지고 있지 않습니다.')"
     ]
    }
   ],
   "source": [
    "get_event_logs('logon')"
   ]
  }
 ],
 "metadata": {
  "kernelspec": {
   "display_name": "Python 3",
   "language": "python",
   "name": "python3"
  },
  "language_info": {
   "codemirror_mode": {
    "name": "ipython",
    "version": 3
   },
   "file_extension": ".py",
   "mimetype": "text/x-python",
   "name": "python",
   "nbconvert_exporter": "python",
   "pygments_lexer": "ipython3",
   "version": "3.11.6"
  },
  "orig_nbformat": 4
 },
 "nbformat": 4,
 "nbformat_minor": 2
}
